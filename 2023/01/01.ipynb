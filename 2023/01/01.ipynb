{
 "cells": [
  {
   "cell_type": "markdown",
   "id": "69a111ad",
   "metadata": {
    "toc": true
   },
   "source": [
    "<h1>Table of Contents<span class=\"tocSkip\"></span></h1>\n",
    "<div class=\"toc\"><ul class=\"toc-item\"></ul></div>"
   ]
  },
  {
   "cell_type": "markdown",
   "id": "b5cf7044-e8dd-4487-aedf-a5cdcadb5cba",
   "metadata": {},
   "source": [
    "# Part I"
   ]
  },
  {
   "cell_type": "code",
   "execution_count": 29,
   "id": "d12db020",
   "metadata": {
    "ExecuteTime": {
     "end_time": "2023-12-04T02:49:01.559926Z",
     "start_time": "2023-12-04T02:49:01.557205Z"
    }
   },
   "outputs": [],
   "source": [
    "import re"
   ]
  },
  {
   "cell_type": "code",
   "execution_count": 30,
   "id": "148158b3",
   "metadata": {
    "ExecuteTime": {
     "end_time": "2023-12-04T02:49:01.840515Z",
     "start_time": "2023-12-04T02:49:01.836869Z"
    }
   },
   "outputs": [],
   "source": [
    "data = open(\"./01.txt\", \"r\").readlines()"
   ]
  },
  {
   "cell_type": "code",
   "execution_count": 32,
   "id": "f7532ec6",
   "metadata": {
    "ExecuteTime": {
     "end_time": "2023-12-04T02:57:15.156350Z",
     "start_time": "2023-12-04T02:57:15.149405Z"
    }
   },
   "outputs": [
    {
     "data": {
      "text/plain": [
       "55002"
      ]
     },
     "execution_count": 32,
     "metadata": {},
     "output_type": "execute_result"
    }
   ],
   "source": [
    "def get_sum_from_string(string):\n",
    "    digits = re.findall(r'\\d', string)\n",
    "    return int(digits[0] + digits[-1])\n",
    "    \n",
    "sum([get_sum_from_string(datum) for datum in data])"
   ]
  },
  {
   "cell_type": "markdown",
   "id": "14094a05-03a5-4c0e-a752-f2972aeb9332",
   "metadata": {},
   "source": [
    "# Part II"
   ]
  },
  {
   "cell_type": "code",
   "execution_count": 39,
   "id": "69014bba-033b-453d-a58c-cf3d93c4ee71",
   "metadata": {},
   "outputs": [
    {
     "data": {
      "text/plain": [
       "55093"
      ]
     },
     "execution_count": 39,
     "metadata": {},
     "output_type": "execute_result"
    }
   ],
   "source": [
    "def get_first_from_left(string):\n",
    "    digits = {\n",
    "        \"one\": \"1\",\n",
    "        \"two\": \"2\",\n",
    "        \"three\": \"3\",\n",
    "        \"four\": \"4\",\n",
    "        \"five\": \"5\",\n",
    "        \"six\": \"6\",\n",
    "        \"seven\": \"7\",\n",
    "        \"eight\": \"8\",\n",
    "        \"nine\": \"9\",\n",
    "        \"zero\": \"0\"\n",
    "    }\n",
    "\n",
    "    def first_substring_matches(substring, string):\n",
    "        if string[:len(substring)] == substring:\n",
    "            return substring\n",
    "            \n",
    "    for i in range(len(string)):\n",
    "        if string[i].isdigit():\n",
    "            return string[i]\n",
    "        for key, value in digits.items():\n",
    "            if first_substring_matches(key, string[i:]):\n",
    "                return value\n",
    "\n",
    "    \n",
    "def get_first_from_right(string):\n",
    "    digits = {\n",
    "        \"one\": \"1\",\n",
    "        \"two\": \"2\",\n",
    "        \"three\": \"3\",\n",
    "        \"four\": \"4\",\n",
    "        \"five\": \"5\",\n",
    "        \"six\": \"6\",\n",
    "        \"seven\": \"7\",\n",
    "        \"eight\": \"8\",\n",
    "        \"nine\": \"9\",\n",
    "        \"zero\": \"0\"\n",
    "    }\n",
    "\n",
    "    def last_substring_matches(substring, string):\n",
    "        try:\n",
    "            if string[:len(substring)] == substring:\n",
    "                return substring\n",
    "        except IndexOutOfBoundsError:\n",
    "            pass\n",
    "            \n",
    "    for i in range(len(string))[::-1]:\n",
    "        if string[i].isdigit():\n",
    "            return string[i]\n",
    "        for key, value in digits.items():\n",
    "            if last_substring_matches(key, string[i:]):\n",
    "                return value\n",
    "\n",
    "def get_better_sum_from_string(string):\n",
    "    return int(get_first_from_left(string) + get_first_from_right(string))\n",
    "\n",
    "sum([get_better_sum_from_string(datum) for datum in data])"
   ]
  }
 ],
 "metadata": {
  "kernelspec": {
   "display_name": "Python 3 (ipykernel)",
   "language": "python",
   "name": "python3"
  },
  "language_info": {
   "codemirror_mode": {
    "name": "ipython",
    "version": 3
   },
   "file_extension": ".py",
   "mimetype": "text/x-python",
   "name": "python",
   "nbconvert_exporter": "python",
   "pygments_lexer": "ipython3",
   "version": "3.9.13"
  },
  "toc": {
   "base_numbering": 1,
   "nav_menu": {},
   "number_sections": true,
   "sideBar": true,
   "skip_h1_title": false,
   "title_cell": "Table of Contents",
   "title_sidebar": "Contents",
   "toc_cell": true,
   "toc_position": {},
   "toc_section_display": true,
   "toc_window_display": false
  },
  "varInspector": {
   "cols": {
    "lenName": 16,
    "lenType": 16,
    "lenVar": 40
   },
   "kernels_config": {
    "python": {
     "delete_cmd_postfix": "",
     "delete_cmd_prefix": "del ",
     "library": "var_list.py",
     "varRefreshCmd": "print(var_dic_list())"
    },
    "r": {
     "delete_cmd_postfix": ") ",
     "delete_cmd_prefix": "rm(",
     "library": "var_list.r",
     "varRefreshCmd": "cat(var_dic_list()) "
    }
   },
   "types_to_exclude": [
    "module",
    "function",
    "builtin_function_or_method",
    "instance",
    "_Feature"
   ],
   "window_display": false
  }
 },
 "nbformat": 4,
 "nbformat_minor": 5
}
