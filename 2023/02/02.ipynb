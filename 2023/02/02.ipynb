{
 "cells": [
  {
   "cell_type": "markdown",
   "id": "69a111ad",
   "metadata": {
    "toc": true
   },
   "source": [
    "<h1>Table of Contents<span class=\"tocSkip\"></span></h1>\n",
    "<div class=\"toc\"><ul class=\"toc-item\"></ul></div>"
   ]
  },
  {
   "cell_type": "markdown",
   "id": "b5cf7044-e8dd-4487-aedf-a5cdcadb5cba",
   "metadata": {},
   "source": [
    "# Part I"
   ]
  },
  {
   "cell_type": "code",
   "execution_count": 1,
   "id": "d12db020",
   "metadata": {
    "ExecuteTime": {
     "end_time": "2023-12-04T02:49:01.559926Z",
     "start_time": "2023-12-04T02:49:01.557205Z"
    }
   },
   "outputs": [],
   "source": [
    "import re"
   ]
  },
  {
   "cell_type": "code",
   "execution_count": 3,
   "id": "148158b3",
   "metadata": {
    "ExecuteTime": {
     "end_time": "2023-12-04T02:49:01.840515Z",
     "start_time": "2023-12-04T02:49:01.836869Z"
    }
   },
   "outputs": [],
   "source": [
    "data = open(\"./input\", \"r\").readlines()"
   ]
  },
  {
   "cell_type": "code",
   "execution_count": 4,
   "id": "f7532ec6",
   "metadata": {
    "ExecuteTime": {
     "end_time": "2023-12-04T02:57:15.156350Z",
     "start_time": "2023-12-04T02:57:15.149405Z"
    }
   },
   "outputs": [
    {
     "data": {
      "text/plain": [
       "['Game 1: 7 blue, 4 red, 11 green; 2 red, 2 blue, 7 green; 2 red, 13 blue, 8 green; 18 blue, 7 green, 5 red\\n',\n",
       " 'Game 2: 3 green, 4 red, 4 blue; 6 red, 4 green, 4 blue; 2 blue, 4 green, 3 red\\n',\n",
       " 'Game 3: 1 red, 2 green, 3 blue; 1 red, 2 green; 2 green, 3 red; 1 blue, 2 red\\n',\n",
       " 'Game 4: 1 red, 15 green; 1 green, 2 blue; 12 green, 1 red, 2 blue; 14 green; 2 green, 1 blue, 2 red\\n',\n",
       " 'Game 5: 8 red; 7 red; 11 red, 4 green; 1 blue, 8 red; 6 red, 2 green, 1 blue; 8 green, 13 red, 1 blue\\n',\n",
       " 'Game 6: 3 blue, 2 red, 6 green; 2 red, 8 green, 1 blue; 1 red, 3 blue\\n',\n",
       " 'Game 7: 5 green, 1 red, 1 blue; 6 blue, 12 red; 6 red, 7 green; 3 green, 1 blue\\n',\n",
       " 'Game 8: 10 red, 6 green; 4 blue, 6 green, 5 red; 8 green, 5 red, 5 blue; 2 red, 4 blue\\n',\n",
       " 'Game 9: 11 blue, 13 red, 3 green; 13 red, 1 green, 6 blue; 8 blue, 4 green, 5 red; 16 red, 7 green, 10 blue; 16 red, 5 green, 6 blue; 17 red, 6 blue\\n',\n",
       " 'Game 10: 16 blue, 8 green; 2 red, 4 green, 1 blue; 15 blue; 4 red, 5 green, 4 blue\\n',\n",
       " 'Game 11: 3 blue, 8 red, 10 green; 10 red, 6 green; 1 red, 1 green; 13 red, 1 green, 1 blue; 3 green, 7 red; 2 blue, 6 green, 2 red\\n',\n",
       " 'Game 12: 1 red, 10 green; 4 red, 6 green, 1 blue; 9 green, 1 blue, 7 red; 1 blue, 13 green, 2 red; 2 blue, 5 red, 11 green\\n',\n",
       " 'Game 13: 1 red, 5 blue; 1 red, 6 green; 2 blue, 1 red; 2 blue, 1 red, 2 green; 5 green, 2 blue\\n',\n",
       " 'Game 14: 4 green; 8 blue, 1 red, 2 green; 7 red, 2 green, 4 blue; 4 blue, 7 green; 7 blue, 2 green, 1 red; 7 blue, 5 red\\n',\n",
       " 'Game 15: 10 green, 3 red; 8 blue, 14 green, 3 red; 4 red, 1 green, 12 blue\\n',\n",
       " 'Game 16: 8 red, 4 blue, 6 green; 14 blue, 9 red, 10 green; 1 red, 5 blue, 8 green; 14 blue, 11 green, 3 red\\n',\n",
       " 'Game 17: 20 blue, 5 red, 4 green; 3 red, 14 blue; 4 red, 4 blue, 4 green; 12 blue, 5 red, 3 green\\n',\n",
       " 'Game 18: 7 blue, 8 red; 1 blue, 2 red; 1 green, 2 blue\\n',\n",
       " 'Game 19: 14 green, 4 blue; 6 green; 12 green, 5 blue; 12 green, 1 red, 1 blue; 4 blue, 10 green\\n',\n",
       " 'Game 20: 3 green, 4 blue, 4 red; 13 blue, 1 red, 2 green; 13 blue, 9 green, 9 red\\n',\n",
       " 'Game 21: 4 green, 2 blue, 2 red; 3 green, 2 blue; 1 blue, 5 green; 1 blue, 2 red, 3 green; 1 green, 1 blue, 2 red; 6 blue, 1 green\\n',\n",
       " 'Game 22: 4 red, 17 green; 15 green, 3 blue, 2 red; 4 blue, 7 red, 11 green; 16 green, 4 red; 3 blue, 2 red\\n',\n",
       " 'Game 23: 19 green, 2 blue, 3 red; 1 red, 2 blue, 2 green; 2 blue, 10 green, 11 red\\n',\n",
       " 'Game 24: 1 red, 3 blue; 2 blue; 1 green, 1 red, 3 blue; 1 red, 1 green\\n',\n",
       " 'Game 25: 12 green, 2 red, 10 blue; 6 green, 3 red; 3 green, 18 blue, 3 red; 17 green, 3 red, 18 blue\\n',\n",
       " 'Game 26: 4 red, 12 blue, 5 green; 3 green, 5 red, 1 blue; 6 blue, 4 green, 1 red; 6 blue, 7 green; 3 green, 5 red, 2 blue; 1 green, 2 blue, 9 red\\n',\n",
       " 'Game 27: 1 red, 9 green; 3 green; 9 green, 2 blue, 1 red; 10 green, 1 blue; 1 red, 5 green, 3 blue\\n',\n",
       " 'Game 28: 10 red, 8 green; 2 blue, 4 green, 7 red; 2 green, 9 red, 1 blue\\n',\n",
       " 'Game 29: 5 blue, 5 green, 3 red; 1 green, 2 blue, 3 red; 2 green, 3 blue, 5 red; 3 red, 11 blue\\n',\n",
       " 'Game 30: 11 red, 5 green; 4 blue, 3 green, 5 red; 6 blue, 3 green, 5 red\\n',\n",
       " 'Game 31: 2 blue, 8 green, 14 red; 9 green; 1 red, 1 blue, 4 green; 2 green, 10 red; 1 red, 10 green, 2 blue; 8 green, 14 red\\n',\n",
       " 'Game 32: 14 green, 6 red, 6 blue; 1 red, 2 blue, 15 green; 2 red, 18 green, 1 blue\\n',\n",
       " 'Game 33: 16 green, 4 red; 18 green, 3 red; 5 red, 10 green; 5 red, 19 green; 11 green, 4 red; 11 red, 1 blue, 2 green\\n',\n",
       " 'Game 34: 1 blue, 11 red; 5 red, 4 green; 4 green, 1 blue, 12 red; 2 blue, 1 green, 7 red; 3 green, 1 blue, 12 red\\n',\n",
       " 'Game 35: 5 red, 1 blue; 1 blue, 1 red; 2 blue, 2 green, 15 red; 7 red, 2 green; 3 blue, 1 green, 1 red; 16 red, 3 blue, 1 green\\n',\n",
       " 'Game 36: 10 green, 16 red; 2 blue, 14 green, 6 red; 1 blue, 8 green, 12 red\\n',\n",
       " 'Game 37: 17 green, 14 blue; 10 green, 12 blue; 10 blue, 1 red, 8 green\\n',\n",
       " 'Game 38: 9 blue, 2 green; 5 blue, 1 green, 5 red; 6 blue, 2 green, 7 red; 17 red, 1 green, 7 blue; 1 green, 9 blue, 16 red\\n',\n",
       " 'Game 39: 2 red, 13 blue, 10 green; 5 blue, 15 green, 1 red; 13 blue, 5 green; 3 red, 6 blue, 2 green; 17 green, 1 blue, 4 red; 4 red, 1 blue, 11 green\\n',\n",
       " 'Game 40: 4 green, 12 blue; 5 red, 13 blue, 1 green; 4 green, 7 red; 7 blue, 2 green\\n',\n",
       " 'Game 41: 3 red, 1 green; 10 green, 4 blue, 5 red; 8 blue, 5 red\\n',\n",
       " 'Game 42: 8 blue, 12 red, 5 green; 8 red, 5 green, 4 blue; 3 green, 13 red; 8 blue, 16 red; 12 red, 3 green, 1 blue; 2 blue, 2 green, 6 red\\n',\n",
       " 'Game 43: 5 blue, 4 red; 10 red, 6 blue; 12 red, 2 blue, 1 green; 7 blue, 12 red, 1 green\\n',\n",
       " 'Game 44: 11 blue, 5 red; 2 red, 13 green, 5 blue; 7 red, 7 blue, 11 green\\n',\n",
       " 'Game 45: 7 red, 6 blue; 5 blue, 6 green; 5 green, 5 blue, 7 red; 4 red, 9 green, 12 blue; 9 blue, 12 green, 1 red\\n',\n",
       " 'Game 46: 2 green, 7 blue, 20 red; 18 green, 2 blue; 8 blue, 1 red, 3 green; 6 green, 1 blue; 2 red, 6 blue, 4 green\\n',\n",
       " 'Game 47: 6 red, 6 blue; 14 blue, 7 green, 2 red; 8 blue, 3 red\\n',\n",
       " 'Game 48: 1 red, 5 blue; 3 blue, 15 green, 2 red; 6 blue, 1 red, 13 green; 6 green, 4 blue, 3 red; 11 green, 3 blue\\n',\n",
       " 'Game 49: 1 green, 15 blue, 3 red; 15 green, 6 blue; 12 green, 2 red, 8 blue; 3 green, 16 blue\\n',\n",
       " 'Game 50: 8 blue, 7 red, 1 green; 6 blue, 1 green, 2 red; 3 red, 7 blue; 4 blue, 6 red, 1 green\\n',\n",
       " 'Game 51: 2 red, 5 blue; 2 red, 10 green; 11 green, 1 blue; 9 green, 1 blue, 2 red; 5 blue, 11 green; 1 red, 8 green, 1 blue\\n',\n",
       " 'Game 52: 1 green, 1 red, 15 blue; 17 blue, 1 red; 5 red, 1 green; 19 blue, 6 red, 3 green; 5 blue, 1 green\\n',\n",
       " 'Game 53: 1 blue, 12 red, 6 green; 3 red, 7 green, 3 blue; 2 blue, 7 red, 5 green; 4 red, 3 blue, 19 green; 10 red, 12 green, 2 blue; 5 blue, 7 red, 14 green\\n',\n",
       " 'Game 54: 12 green, 1 red, 4 blue; 3 blue, 5 red, 8 green; 9 green, 6 blue; 3 green, 2 red, 11 blue; 3 green, 10 blue, 7 red; 2 red, 3 green, 4 blue\\n',\n",
       " 'Game 55: 5 red, 3 blue; 4 blue, 6 green; 10 blue, 1 green; 7 green, 4 red, 14 blue; 2 red, 9 blue, 10 green; 5 red, 10 blue, 10 green\\n',\n",
       " 'Game 56: 3 green, 11 blue; 4 blue, 10 green, 8 red; 2 blue, 5 green, 2 red; 1 blue, 1 green, 8 red; 5 green, 7 red, 3 blue\\n',\n",
       " 'Game 57: 2 green, 2 blue, 3 red; 8 red, 5 green, 2 blue; 16 red, 12 blue, 7 green; 13 blue, 6 red, 2 green; 12 red, 1 green\\n',\n",
       " 'Game 58: 2 green, 3 blue, 8 red; 3 green, 4 blue, 7 red; 2 blue, 11 red, 4 green; 4 green, 1 blue, 2 red; 3 green, 3 red, 2 blue\\n',\n",
       " 'Game 59: 10 red, 6 blue, 2 green; 2 green, 6 blue, 14 red; 3 green, 11 red, 7 blue; 1 blue, 1 green\\n',\n",
       " 'Game 60: 5 blue, 10 red; 4 blue, 12 red; 2 green, 3 red, 4 blue\\n',\n",
       " 'Game 61: 4 blue, 1 green; 10 blue, 2 red; 6 blue, 1 red; 1 green, 7 red; 5 blue, 5 red\\n',\n",
       " 'Game 62: 6 blue, 7 red, 1 green; 7 blue, 7 green, 15 red; 14 green, 16 red, 2 blue; 2 blue, 17 red; 4 red, 11 green, 6 blue; 13 green, 16 red, 5 blue\\n',\n",
       " 'Game 63: 4 red, 13 green, 1 blue; 2 green, 5 blue, 10 red; 3 green, 8 red; 1 blue, 3 red, 11 green; 1 red, 7 blue\\n',\n",
       " 'Game 64: 12 green, 1 blue; 8 red, 1 blue, 10 green; 11 green, 1 blue, 3 red; 10 green, 2 red, 1 blue; 1 blue, 9 green, 8 red\\n',\n",
       " 'Game 65: 5 green, 2 red; 7 blue, 5 red, 10 green; 9 green, 8 blue; 3 blue, 4 red, 8 green; 11 green, 6 red, 16 blue\\n',\n",
       " 'Game 66: 8 green, 1 red, 4 blue; 10 green, 5 blue, 7 red; 5 blue, 3 red, 6 green; 4 blue, 12 green, 6 red; 16 green, 3 red; 16 green, 7 red, 4 blue\\n',\n",
       " 'Game 67: 6 green; 7 red, 1 green, 5 blue; 10 red, 13 green, 3 blue; 8 green, 11 red, 6 blue; 14 red, 5 green, 7 blue\\n',\n",
       " 'Game 68: 1 red, 8 green, 3 blue; 1 green, 1 red, 1 blue; 1 green, 11 blue, 1 red\\n',\n",
       " 'Game 69: 2 red, 4 green, 1 blue; 4 blue, 10 green; 4 green, 1 blue, 2 red; 12 green, 5 blue; 6 blue, 3 green\\n',\n",
       " 'Game 70: 1 blue, 3 green, 2 red; 1 green, 2 blue; 5 green, 1 red; 2 blue, 4 green; 1 red, 5 green\\n',\n",
       " 'Game 71: 6 blue, 3 red, 12 green; 2 red, 8 green, 3 blue; 8 green, 8 blue; 7 blue, 1 red, 9 green; 2 green, 4 blue, 1 red; 3 red, 7 blue, 8 green\\n',\n",
       " 'Game 72: 8 red, 7 blue, 6 green; 2 red, 8 blue, 7 green; 2 red, 5 blue, 1 green; 4 green, 6 blue, 1 red; 11 green, 13 red, 3 blue; 8 green, 11 red, 2 blue\\n',\n",
       " 'Game 73: 7 blue, 17 red, 4 green; 1 red, 4 green, 2 blue; 3 red, 4 blue, 4 green; 5 blue, 5 red; 6 red, 2 blue; 11 red, 1 green, 4 blue\\n',\n",
       " 'Game 74: 3 red, 2 green; 4 red, 12 blue, 4 green; 7 red, 6 blue, 10 green\\n',\n",
       " 'Game 75: 6 blue, 7 green; 8 green, 9 blue, 1 red; 6 red, 4 blue, 9 green; 10 red, 9 blue, 4 green; 6 red, 2 blue, 1 green; 7 green\\n',\n",
       " 'Game 76: 10 red, 8 green; 2 red, 2 blue, 5 green; 1 red, 1 blue, 1 green; 9 red, 11 green, 2 blue; 2 blue, 9 green, 3 red; 6 green, 14 red\\n',\n",
       " 'Game 77: 9 blue, 1 red, 3 green; 8 blue, 17 green, 4 red; 5 green, 1 blue, 2 red; 6 green, 1 red, 9 blue; 4 green, 10 red; 9 red, 3 blue\\n',\n",
       " 'Game 78: 5 green, 10 blue; 2 green, 5 blue, 11 red; 1 red, 1 green, 6 blue; 1 red, 8 blue, 4 green\\n',\n",
       " 'Game 79: 3 green, 1 blue, 2 red; 8 green, 1 blue, 2 red; 2 blue, 1 red, 11 green\\n',\n",
       " 'Game 80: 12 blue, 3 green; 6 red, 4 green, 13 blue; 4 blue, 8 red; 3 green, 4 blue\\n',\n",
       " 'Game 81: 1 green, 5 blue; 1 green, 3 blue, 1 red; 1 blue, 1 red, 3 green; 6 blue, 5 green\\n',\n",
       " 'Game 82: 2 green, 1 blue; 10 blue, 1 red, 6 green; 4 green, 20 blue, 1 red; 20 blue, 2 green, 1 red\\n',\n",
       " 'Game 83: 2 green, 9 blue, 10 red; 12 red, 11 blue, 4 green; 11 blue, 8 red, 3 green; 17 green, 4 blue; 12 green, 4 red, 6 blue; 1 red, 11 green, 8 blue\\n',\n",
       " 'Game 84: 7 green, 15 red, 15 blue; 4 blue, 3 green, 18 red; 2 blue, 1 red, 2 green; 8 blue, 19 red, 5 green; 11 blue, 3 red; 9 red, 2 blue\\n',\n",
       " 'Game 85: 14 green, 3 red, 16 blue; 3 blue, 6 green; 12 green, 6 blue, 2 red\\n',\n",
       " 'Game 86: 5 red, 6 green; 9 red, 4 green; 7 green, 1 blue, 2 red\\n',\n",
       " 'Game 87: 10 blue, 7 red, 1 green; 12 blue, 14 red; 7 blue, 7 red\\n',\n",
       " 'Game 88: 5 red, 10 green, 5 blue; 10 green, 2 red, 8 blue; 2 red, 14 green, 4 blue\\n',\n",
       " 'Game 89: 1 blue, 6 red, 12 green; 9 red, 13 green, 3 blue; 11 green, 6 red, 3 blue\\n',\n",
       " 'Game 90: 1 green, 8 blue, 10 red; 10 blue, 7 green; 6 blue, 15 red, 1 green; 1 blue, 16 red, 4 green\\n',\n",
       " 'Game 91: 8 red, 9 green, 2 blue; 2 red, 15 blue, 2 green; 15 blue, 1 red, 5 green; 1 green, 6 red, 10 blue\\n',\n",
       " 'Game 92: 10 blue, 4 red; 9 blue, 3 red, 7 green; 8 blue, 16 green, 3 red; 16 green, 16 blue\\n',\n",
       " 'Game 93: 1 blue, 2 green, 1 red; 4 red, 7 green, 12 blue; 6 green, 3 blue, 4 red; 8 blue, 4 red, 12 green; 5 red, 8 green; 1 red, 18 blue, 10 green\\n',\n",
       " 'Game 94: 1 blue, 5 red, 6 green; 7 red, 6 green, 1 blue; 8 red, 11 green; 12 green, 7 red, 1 blue; 7 red, 8 green\\n',\n",
       " 'Game 95: 10 red, 7 green; 2 green, 1 blue, 10 red; 6 green, 5 red, 1 blue\\n',\n",
       " 'Game 96: 3 blue, 12 red, 3 green; 13 red, 9 blue; 2 green, 5 red, 13 blue; 2 red, 18 blue, 4 green; 6 red, 6 blue, 7 green; 3 green, 15 red, 18 blue\\n',\n",
       " 'Game 97: 4 red, 3 green; 2 blue, 4 red, 5 green; 3 red, 3 green\\n',\n",
       " 'Game 98: 2 red, 19 blue; 2 blue; 11 blue, 2 red; 3 green, 5 blue, 1 red; 2 red, 1 blue; 17 blue\\n',\n",
       " 'Game 99: 2 red, 16 blue, 1 green; 2 green, 12 blue, 6 red; 1 red, 3 green, 3 blue; 8 red, 1 green; 2 red, 9 blue; 1 green, 7 red, 9 blue\\n',\n",
       " 'Game 100: 8 green, 3 red; 7 green, 4 red; 1 red, 7 green, 2 blue; 1 green, 2 red\\n']"
      ]
     },
     "execution_count": 4,
     "metadata": {},
     "output_type": "execute_result"
    }
   ],
   "source": [
    "data"
   ]
  },
  {
   "cell_type": "code",
   "execution_count": 29,
   "id": "a44d6204-9ccf-4ab1-a30b-8410597cf00d",
   "metadata": {},
   "outputs": [],
   "source": [
    "def parse_ball_counts(game):\n",
    "    all_draws = game.split(\": \")[1].split(\"; \")\n",
    "    all_ball_counts = []\n",
    "    for draw in all_draws:\n",
    "        ball_counts = [0, 0, 0]\n",
    "        # print(draw)\n",
    "        for draw_subset in draw.split(\", \"):\n",
    "            # print(draw_subset)\n",
    "            if \"red\" in draw_subset:\n",
    "                ball_counts[0] += int(draw_subset.split()[0])\n",
    "            elif \"green\" in draw_subset:\n",
    "                ball_counts[1] += int(draw_subset.split()[0])\n",
    "            elif \"blue\" in draw_subset:\n",
    "                ball_counts[2] += int(draw_subset.split()[0])\n",
    "            else:\n",
    "                raise ValueError\n",
    "        all_ball_counts.append(tuple(ball_counts))\n",
    "    return all_ball_counts\n",
    "    \n",
    "def parse_game(game):\n",
    "    game_id = int(game.split(\": \")[0].split(\" \")[1])\n",
    "    # print(game)\n",
    "    counts = parse_ball_counts(game)\n",
    "    # print(counts)\n",
    "    return game_id, counts\n",
    "\n",
    "\n",
    "def parse_data(data):\n",
    "    output = {}\n",
    "    for datum in data:\n",
    "        game_id, counts = parse_game(datum)\n",
    "        if game_id in output.keys():\n",
    "            output[game_id].append(counts)\n",
    "        else:\n",
    "            output[game_id] = (counts)\n",
    "    return output\n",
    "\n",
    "\"\"\"\n",
    "    gamedata is a dictionary consisting of\n",
    "    keys: game_id\n",
    "    values:\n",
    "        a list of (R, G, B) ball count tuples, each tuple corresponding to a sample from the bag\n",
    "\"\"\"\n",
    "gamedata = parse_data(data)\n",
    "gamedata"
   ]
  },
  {
   "cell_type": "code",
   "execution_count": 32,
   "id": "1c6eafc9-44d2-40fb-9216-89c6eccc871b",
   "metadata": {},
   "outputs": [
    {
     "data": {
      "text/plain": [
       "2476"
      ]
     },
     "execution_count": 32,
     "metadata": {},
     "output_type": "execute_result"
    }
   ],
   "source": [
    "def validate_task_1(list_of_tuples):\n",
    "    for tuple in list_of_tuples:\n",
    "        if tuple[0] > 12 or tuple[1] > 13 or tuple[2] > 14:\n",
    "            return False\n",
    "    return True\n",
    "\n",
    "sum([game_id for game_id, list_of_tuples in gamedata.items() if validate_task_1(list_of_tuples)])"
   ]
  },
  {
   "cell_type": "markdown",
   "id": "14094a05-03a5-4c0e-a752-f2972aeb9332",
   "metadata": {},
   "source": [
    "# Part II"
   ]
  },
  {
   "cell_type": "code",
   "execution_count": 42,
   "id": "69014bba-033b-453d-a58c-cf3d93c4ee71",
   "metadata": {},
   "outputs": [],
   "source": [
    "from math import prod\n",
    "def compute_minimum_cubeset(list_of_tuples):\n",
    "    r = max([tuple[0] for tuple in list_of_tuples])\n",
    "    g = max([tuple[1] for tuple in list_of_tuples])\n",
    "    b = max([tuple[2] for tuple in list_of_tuples])\n",
    "    return (r, g, b)\n",
    "    "
   ]
  },
  {
   "cell_type": "code",
   "execution_count": 43,
   "id": "62c1bb84-8b18-4b50-843f-7482b4a66c51",
   "metadata": {},
   "outputs": [
    {
     "data": {
      "text/plain": [
       "54911"
      ]
     },
     "execution_count": 43,
     "metadata": {},
     "output_type": "execute_result"
    }
   ],
   "source": [
    "powers = [prod(compute_minimum_cubeset(list_of_tuples)) for list_of_tuples in gamedata.values()]\n",
    "sum(powers)\n"
   ]
  },
  {
   "cell_type": "code",
   "execution_count": null,
   "id": "e74b37db-3cdb-435d-b6c1-3bafa2ac96ea",
   "metadata": {},
   "outputs": [],
   "source": []
  }
 ],
 "metadata": {
  "kernelspec": {
   "display_name": "Python 3 (ipykernel)",
   "language": "python",
   "name": "python3"
  },
  "language_info": {
   "codemirror_mode": {
    "name": "ipython",
    "version": 3
   },
   "file_extension": ".py",
   "mimetype": "text/x-python",
   "name": "python",
   "nbconvert_exporter": "python",
   "pygments_lexer": "ipython3",
   "version": "3.9.13"
  },
  "toc": {
   "base_numbering": 1,
   "nav_menu": {},
   "number_sections": true,
   "sideBar": true,
   "skip_h1_title": false,
   "title_cell": "Table of Contents",
   "title_sidebar": "Contents",
   "toc_cell": true,
   "toc_position": {},
   "toc_section_display": true,
   "toc_window_display": false
  },
  "varInspector": {
   "cols": {
    "lenName": 16,
    "lenType": 16,
    "lenVar": 40
   },
   "kernels_config": {
    "python": {
     "delete_cmd_postfix": "",
     "delete_cmd_prefix": "del ",
     "library": "var_list.py",
     "varRefreshCmd": "print(var_dic_list())"
    },
    "r": {
     "delete_cmd_postfix": ") ",
     "delete_cmd_prefix": "rm(",
     "library": "var_list.r",
     "varRefreshCmd": "cat(var_dic_list()) "
    }
   },
   "types_to_exclude": [
    "module",
    "function",
    "builtin_function_or_method",
    "instance",
    "_Feature"
   ],
   "window_display": false
  }
 },
 "nbformat": 4,
 "nbformat_minor": 5
}
